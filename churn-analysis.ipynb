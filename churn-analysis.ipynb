{
 "cells": [
  {
   "cell_type": "markdown",
   "metadata": {},
   "source": [
    "# 数据总览"
   ]
  },
  {
   "cell_type": "markdown",
   "metadata": {},
   "source": [
    "## 总览"
   ]
  },
  {
   "cell_type": "code",
   "execution_count": 1,
   "metadata": {},
   "outputs": [],
   "source": [
    "import pandas as pd\n",
    "import numpy as np\n",
    "import matplotlib.pyplot as plt\n",
    "import seaborn as sns  "
   ]
  },
  {
   "cell_type": "code",
   "execution_count": 2,
   "metadata": {},
   "outputs": [],
   "source": [
    "#读取数据\n",
    "data_raw=pd.read_csv('userlostprob.txt',sep='\\t',engine='python',parse_dates=['d','arrival'],infer_datetime_format=True)"
   ]
  },
  {
   "cell_type": "code",
   "execution_count": 3,
   "metadata": {},
   "outputs": [
    {
     "data": {
      "text/html": [
       "<div>\n",
       "<style scoped>\n",
       "    .dataframe tbody tr th:only-of-type {\n",
       "        vertical-align: middle;\n",
       "    }\n",
       "\n",
       "    .dataframe tbody tr th {\n",
       "        vertical-align: top;\n",
       "    }\n",
       "\n",
       "    .dataframe thead th {\n",
       "        text-align: right;\n",
       "    }\n",
       "</style>\n",
       "<table border=\"1\" class=\"dataframe\">\n",
       "  <thead>\n",
       "    <tr style=\"text-align: right;\">\n",
       "      <th></th>\n",
       "      <th>label</th>\n",
       "      <th>sampleid</th>\n",
       "      <th>d</th>\n",
       "      <th>arrival</th>\n",
       "      <th>iforderpv_24h</th>\n",
       "      <th>decisionhabit_user</th>\n",
       "      <th>historyvisit_7ordernum</th>\n",
       "      <th>historyvisit_totalordernum</th>\n",
       "      <th>hotelcr</th>\n",
       "      <th>ordercanceledprecent</th>\n",
       "      <th>...</th>\n",
       "      <th>lowestprice_pre2</th>\n",
       "      <th>lasthtlordergap</th>\n",
       "      <th>businessrate_pre2</th>\n",
       "      <th>cityuvs</th>\n",
       "      <th>cityorders</th>\n",
       "      <th>lastpvgap</th>\n",
       "      <th>cr</th>\n",
       "      <th>sid</th>\n",
       "      <th>visitnum_oneyear</th>\n",
       "      <th>h</th>\n",
       "    </tr>\n",
       "  </thead>\n",
       "  <tbody>\n",
       "    <tr>\n",
       "      <th>0</th>\n",
       "      <td>0</td>\n",
       "      <td>24636</td>\n",
       "      <td>2016-05-18</td>\n",
       "      <td>2016-05-18</td>\n",
       "      <td>0</td>\n",
       "      <td>NaN</td>\n",
       "      <td>NaN</td>\n",
       "      <td>NaN</td>\n",
       "      <td>1.04</td>\n",
       "      <td>NaN</td>\n",
       "      <td>...</td>\n",
       "      <td>615.0</td>\n",
       "      <td>NaN</td>\n",
       "      <td>0.29</td>\n",
       "      <td>12.880</td>\n",
       "      <td>3.147</td>\n",
       "      <td>NaN</td>\n",
       "      <td>NaN</td>\n",
       "      <td>7</td>\n",
       "      <td>NaN</td>\n",
       "      <td>12</td>\n",
       "    </tr>\n",
       "    <tr>\n",
       "      <th>1</th>\n",
       "      <td>1</td>\n",
       "      <td>24637</td>\n",
       "      <td>2016-05-18</td>\n",
       "      <td>2016-05-18</td>\n",
       "      <td>0</td>\n",
       "      <td>NaN</td>\n",
       "      <td>NaN</td>\n",
       "      <td>NaN</td>\n",
       "      <td>1.06</td>\n",
       "      <td>NaN</td>\n",
       "      <td>...</td>\n",
       "      <td>513.0</td>\n",
       "      <td>NaN</td>\n",
       "      <td>0.53</td>\n",
       "      <td>17.933</td>\n",
       "      <td>4.913</td>\n",
       "      <td>NaN</td>\n",
       "      <td>NaN</td>\n",
       "      <td>33</td>\n",
       "      <td>NaN</td>\n",
       "      <td>14</td>\n",
       "    </tr>\n",
       "    <tr>\n",
       "      <th>2</th>\n",
       "      <td>0</td>\n",
       "      <td>24641</td>\n",
       "      <td>2016-05-18</td>\n",
       "      <td>2016-05-19</td>\n",
       "      <td>0</td>\n",
       "      <td>NaN</td>\n",
       "      <td>NaN</td>\n",
       "      <td>NaN</td>\n",
       "      <td>1.05</td>\n",
       "      <td>NaN</td>\n",
       "      <td>...</td>\n",
       "      <td>382.0</td>\n",
       "      <td>NaN</td>\n",
       "      <td>0.60</td>\n",
       "      <td>3.993</td>\n",
       "      <td>0.760</td>\n",
       "      <td>NaN</td>\n",
       "      <td>NaN</td>\n",
       "      <td>10</td>\n",
       "      <td>NaN</td>\n",
       "      <td>19</td>\n",
       "    </tr>\n",
       "    <tr>\n",
       "      <th>3</th>\n",
       "      <td>0</td>\n",
       "      <td>24642</td>\n",
       "      <td>2016-05-18</td>\n",
       "      <td>2016-05-18</td>\n",
       "      <td>0</td>\n",
       "      <td>NaN</td>\n",
       "      <td>NaN</td>\n",
       "      <td>NaN</td>\n",
       "      <td>1.01</td>\n",
       "      <td>NaN</td>\n",
       "      <td>...</td>\n",
       "      <td>203.0</td>\n",
       "      <td>NaN</td>\n",
       "      <td>0.18</td>\n",
       "      <td>3.220</td>\n",
       "      <td>0.660</td>\n",
       "      <td>NaN</td>\n",
       "      <td>NaN</td>\n",
       "      <td>8</td>\n",
       "      <td>NaN</td>\n",
       "      <td>16</td>\n",
       "    </tr>\n",
       "    <tr>\n",
       "      <th>4</th>\n",
       "      <td>1</td>\n",
       "      <td>24644</td>\n",
       "      <td>2016-05-18</td>\n",
       "      <td>2016-05-19</td>\n",
       "      <td>0</td>\n",
       "      <td>NaN</td>\n",
       "      <td>NaN</td>\n",
       "      <td>NaN</td>\n",
       "      <td>1.00</td>\n",
       "      <td>NaN</td>\n",
       "      <td>...</td>\n",
       "      <td>84.0</td>\n",
       "      <td>NaN</td>\n",
       "      <td>NaN</td>\n",
       "      <td>0.013</td>\n",
       "      <td>NaN</td>\n",
       "      <td>NaN</td>\n",
       "      <td>NaN</td>\n",
       "      <td>1</td>\n",
       "      <td>NaN</td>\n",
       "      <td>21</td>\n",
       "    </tr>\n",
       "  </tbody>\n",
       "</table>\n",
       "<p>5 rows × 51 columns</p>\n",
       "</div>"
      ],
      "text/plain": [
       "   label  sampleid          d    arrival  iforderpv_24h  decisionhabit_user  \\\n",
       "0      0     24636 2016-05-18 2016-05-18              0                 NaN   \n",
       "1      1     24637 2016-05-18 2016-05-18              0                 NaN   \n",
       "2      0     24641 2016-05-18 2016-05-19              0                 NaN   \n",
       "3      0     24642 2016-05-18 2016-05-18              0                 NaN   \n",
       "4      1     24644 2016-05-18 2016-05-19              0                 NaN   \n",
       "\n",
       "   historyvisit_7ordernum  historyvisit_totalordernum  hotelcr  \\\n",
       "0                     NaN                         NaN     1.04   \n",
       "1                     NaN                         NaN     1.06   \n",
       "2                     NaN                         NaN     1.05   \n",
       "3                     NaN                         NaN     1.01   \n",
       "4                     NaN                         NaN     1.00   \n",
       "\n",
       "   ordercanceledprecent  ...  lowestprice_pre2  lasthtlordergap  \\\n",
       "0                   NaN  ...             615.0              NaN   \n",
       "1                   NaN  ...             513.0              NaN   \n",
       "2                   NaN  ...             382.0              NaN   \n",
       "3                   NaN  ...             203.0              NaN   \n",
       "4                   NaN  ...              84.0              NaN   \n",
       "\n",
       "   businessrate_pre2  cityuvs  cityorders  lastpvgap  cr  sid  \\\n",
       "0               0.29   12.880       3.147        NaN NaN    7   \n",
       "1               0.53   17.933       4.913        NaN NaN   33   \n",
       "2               0.60    3.993       0.760        NaN NaN   10   \n",
       "3               0.18    3.220       0.660        NaN NaN    8   \n",
       "4                NaN    0.013         NaN        NaN NaN    1   \n",
       "\n",
       "   visitnum_oneyear   h  \n",
       "0               NaN  12  \n",
       "1               NaN  14  \n",
       "2               NaN  19  \n",
       "3               NaN  16  \n",
       "4               NaN  21  \n",
       "\n",
       "[5 rows x 51 columns]"
      ]
     },
     "execution_count": 3,
     "metadata": {},
     "output_type": "execute_result"
    }
   ],
   "source": [
    "#观测前几行数据\n",
    "data_raw.head()"
   ]
  },
  {
   "cell_type": "code",
   "execution_count": 4,
   "metadata": {},
   "outputs": [
    {
     "name": "stdout",
     "output_type": "stream",
     "text": [
      "<class 'pandas.core.frame.DataFrame'>\n",
      "RangeIndex: 689945 entries, 0 to 689944\n",
      "Data columns (total 51 columns):\n",
      "label                               689945 non-null int64\n",
      "sampleid                            689945 non-null int64\n",
      "d                                   689945 non-null datetime64[ns]\n",
      "arrival                             689945 non-null datetime64[ns]\n",
      "iforderpv_24h                       689945 non-null int64\n",
      "decisionhabit_user                  385450 non-null float64\n",
      "historyvisit_7ordernum              82915 non-null float64\n",
      "historyvisit_totalordernum          386525 non-null float64\n",
      "hotelcr                             689148 non-null float64\n",
      "ordercanceledprecent                447831 non-null float64\n",
      "landhalfhours                       661312 non-null float64\n",
      "ordercanncelednum                   447831 non-null float64\n",
      "commentnums                         622029 non-null float64\n",
      "starprefer                          464892 non-null float64\n",
      "novoters                            672918 non-null float64\n",
      "consuming_capacity                  463837 non-null float64\n",
      "historyvisit_avghotelnum            387876 non-null float64\n",
      "cancelrate                          678227 non-null float64\n",
      "historyvisit_visit_detailpagenum    307234 non-null float64\n",
      "delta_price1                        437146 non-null float64\n",
      "price_sensitive                     463837 non-null float64\n",
      "hoteluv                             689148 non-null float64\n",
      "businessrate_pre                    483896 non-null float64\n",
      "ordernum_oneyear                    447831 non-null float64\n",
      "cr_pre                              660548 non-null float64\n",
      "avgprice                            457261 non-null float64\n",
      "lowestprice                         687931 non-null float64\n",
      "firstorder_bu                       376993 non-null float64\n",
      "customereval_pre2                   661312 non-null float64\n",
      "delta_price2                        437750 non-null float64\n",
      "commentnums_pre                     598368 non-null float64\n",
      "customer_value_profit               439123 non-null float64\n",
      "commentnums_pre2                    648457 non-null float64\n",
      "cancelrate_pre                      653015 non-null float64\n",
      "novoters_pre2                       657616 non-null float64\n",
      "novoters_pre                        648956 non-null float64\n",
      "ctrip_profits                       445187 non-null float64\n",
      "deltaprice_pre2_t1                  543180 non-null float64\n",
      "lowestprice_pre                     659689 non-null float64\n",
      "uv_pre                              660548 non-null float64\n",
      "uv_pre2                             661189 non-null float64\n",
      "lowestprice_pre2                    660664 non-null float64\n",
      "lasthtlordergap                     447831 non-null float64\n",
      "businessrate_pre2                   602960 non-null float64\n",
      "cityuvs                             682274 non-null float64\n",
      "cityorders                          651263 non-null float64\n",
      "lastpvgap                           592818 non-null float64\n",
      "cr                                  457896 non-null float64\n",
      "sid                                 689945 non-null int64\n",
      "visitnum_oneyear                    592910 non-null float64\n",
      "h                                   689945 non-null int64\n",
      "dtypes: datetime64[ns](2), float64(44), int64(5)\n",
      "memory usage: 268.5 MB\n"
     ]
    }
   ],
   "source": [
    "#数据信息总览\n",
    "data_raw.info()"
   ]
  },
  {
   "cell_type": "code",
   "execution_count": 6,
   "metadata": {
    "scrolled": true
   },
   "outputs": [
    {
     "data": {
      "text/plain": [
       "label                               0.000000\n",
       "sampleid                            0.000000\n",
       "d                                   0.000000\n",
       "arrival                             0.000000\n",
       "iforderpv_24h                       0.000000\n",
       "decisionhabit_user                  0.441332\n",
       "historyvisit_7ordernum              0.879824\n",
       "historyvisit_totalordernum          0.439774\n",
       "hotelcr                             0.001155\n",
       "ordercanceledprecent                0.350918\n",
       "landhalfhours                       0.041500\n",
       "ordercanncelednum                   0.350918\n",
       "commentnums                         0.098437\n",
       "starprefer                          0.326190\n",
       "novoters                            0.024679\n",
       "consuming_capacity                  0.327719\n",
       "historyvisit_avghotelnum            0.437816\n",
       "cancelrate                          0.016984\n",
       "historyvisit_visit_detailpagenum    0.554698\n",
       "delta_price1                        0.366405\n",
       "price_sensitive                     0.327719\n",
       "hoteluv                             0.001155\n",
       "businessrate_pre                    0.298646\n",
       "ordernum_oneyear                    0.350918\n",
       "cr_pre                              0.042608\n",
       "avgprice                            0.337250\n",
       "lowestprice                         0.002919\n",
       "firstorder_bu                       0.453590\n",
       "customereval_pre2                   0.041500\n",
       "delta_price2                        0.365529\n",
       "commentnums_pre                     0.132731\n",
       "customer_value_profit               0.363539\n",
       "commentnums_pre2                    0.060132\n",
       "cancelrate_pre                      0.053526\n",
       "novoters_pre2                       0.046857\n",
       "novoters_pre                        0.059409\n",
       "ctrip_profits                       0.354750\n",
       "deltaprice_pre2_t1                  0.212720\n",
       "lowestprice_pre                     0.043853\n",
       "uv_pre                              0.042608\n",
       "uv_pre2                             0.041679\n",
       "lowestprice_pre2                    0.042440\n",
       "lasthtlordergap                     0.350918\n",
       "businessrate_pre2                   0.126075\n",
       "cityuvs                             0.011118\n",
       "cityorders                          0.056065\n",
       "lastpvgap                           0.140775\n",
       "cr                                  0.336330\n",
       "sid                                 0.000000\n",
       "visitnum_oneyear                    0.140642\n",
       "h                                   0.000000\n",
       "dtype: float64"
      ]
     },
     "execution_count": 6,
     "metadata": {},
     "output_type": "execute_result"
    }
   ],
   "source": [
    "#缺失值观察\n",
    "data_raw.isnull().sum()/len(data_raw)"
   ]
  },
  {
   "cell_type": "code",
   "execution_count": 19,
   "metadata": {
    "collapsed": true
   },
   "outputs": [
    {
     "data": {
      "text/plain": [
       "<matplotlib.axes._subplots.AxesSubplot at 0x22c133cd3c8>"
      ]
     },
     "execution_count": 19,
     "metadata": {},
     "output_type": "execute_result"
    },
    {
     "data": {
      "image/png": "[encoded data removed]",
      "text/plain": [
       "<Figure size 1800x720 with 2 Axes>"
      ]
     },
     "metadata": {
      "needs_background": "light"
     },
     "output_type": "display_data"
    }
   ],
   "source": [
    "#缺失模式图\n",
    "import missingno as msno\n",
    "sort=data_raw.isnull().sum()/len(data_raw)\n",
    "sort=list(sort.sort_values().index)\n",
    "msno.matrix(data_raw[sort].sort_values(by=list(data_raw[sort[::-1]].columns)))"
   ]
  },
  {
   "cell_type": "markdown",
   "metadata": {},
   "source": [
    "## 数据处理 "
   ]
  },
  {
   "cell_type": "code",
   "execution_count": 7,
   "metadata": {},
   "outputs": [],
   "source": [
    "#缺失值填充,中位数填充\n",
    "data_raw['businessrate_pre2']=data_raw['businessrate_pre2'].fillna(data_raw['businessrate_pre2'].mean())\n",
    "data_raw['cancelrate_pre']=data_raw['cancelrate_pre'].fillna(data_raw['cancelrate_pre'].mean())\n",
    "data_raw['businessrate_pre']=data_raw['businessrate_pre'].fillna(data_raw['businessrate_pre'].mean())\n",
    "\n",
    "#右偏分布的字段，使用0值填充：\n",
    "for i in range(0,51):\n",
    "    if data_raw.iloc[:,i].isnull().sum()!=0:\n",
    "        data_raw[data_raw.columns[i]]=data_raw[data_raw.columns[i]].fillna(0)"
   ]
  },
  {
   "cell_type": "code",
   "execution_count": 8,
   "metadata": {},
   "outputs": [
    {
     "name": "stderr",
     "output_type": "stream",
     "text": [
      "E:\\python\\lib\\site-packages\\ipykernel_launcher.py:6: SettingWithCopyWarning: \n",
      "A value is trying to be set on a copy of a slice from a DataFrame\n",
      "\n",
      "See the caveats in the documentation: http://pandas.pydata.org/pandas-docs/stable/indexing.html#indexing-view-versus-copy\n",
      "  \n"
     ]
    }
   ],
   "source": [
    "#针对historyvisit_7ordernum缺失的列，新增是否缺失的字段\n",
    "hig_na=['historyvisit_7ordernum']#,'historyvisit_visit_detailpagenum','firstorder_bu','decisionhabit_user','historyvisit_totalordernum','historyvisit_avghotelnum','delta_price1','delta_price2','customer_value_profit','ctrip_profits','ordercanceledprecent','ordercanncelednum','ordernum_oneyear','lasthtlordergap','avgprice','cr','consuming_capacity','price_sensitive','starprefer','businessrate_pre','deltaprice_pre2_t1','lastpvgap','visitnum_oneyear','commentnums_pre','businessrate_pre2'\n",
    "for i in hig_na:\n",
    "    name=i+'_null'\n",
    "    data_raw[name]=1\n",
    "    data_raw[name][data_raw[i].isnull()]=0\n",
    "    \n",
    "    #data_raw[\"{}_null\".format(hig_na[i])]=data_raw[hig_na[i]].isnull"
   ]
  },
  {
   "cell_type": "code",
   "execution_count": 9,
   "metadata": {},
   "outputs": [],
   "source": [
    "#衍生变量:预定提前天数\n",
    "data_raw['Reservation']=(data_raw['arrival']-data_raw['d']).dt.days"
   ]
  },
  {
   "cell_type": "code",
   "execution_count": 10,
   "metadata": {},
   "outputs": [],
   "source": [
    "#衍生变量:预定、出行时间是否为周末\n",
    "from datetime import datetime\n",
    "\n",
    "data_raw['arrival_week']=list(map(lambda x: 0 if datetime.weekday(x)>=5 else 1,data_raw['arrival']))\n",
    "data_raw['d_week']=list(map(lambda x: 0 if datetime.weekday(x)>=5 else 1,data_raw['arrival']))"
   ]
  },
  {
   "cell_type": "code",
   "execution_count": 11,
   "metadata": {},
   "outputs": [
    {
     "name": "stderr",
     "output_type": "stream",
     "text": [
      "E:\\python\\lib\\site-packages\\ipykernel_launcher.py:2: SettingWithCopyWarning: \n",
      "A value is trying to be set on a copy of a slice from a DataFrame\n",
      "\n",
      "See the caveats in the documentation: http://pandas.pydata.org/pandas-docs/stable/indexing.html#indexing-view-versus-copy\n",
      "  \n",
      "E:\\python\\lib\\site-packages\\ipykernel_launcher.py:3: SettingWithCopyWarning: \n",
      "A value is trying to be set on a copy of a slice from a DataFrame\n",
      "\n",
      "See the caveats in the documentation: http://pandas.pydata.org/pandas-docs/stable/indexing.html#indexing-view-versus-copy\n",
      "  This is separate from the ipykernel package so we can avoid doing imports until\n",
      "E:\\python\\lib\\site-packages\\ipykernel_launcher.py:4: SettingWithCopyWarning: \n",
      "A value is trying to be set on a copy of a slice from a DataFrame\n",
      "\n",
      "See the caveats in the documentation: http://pandas.pydata.org/pandas-docs/stable/indexing.html#indexing-view-versus-copy\n",
      "  after removing the cwd from sys.path.\n",
      "E:\\python\\lib\\site-packages\\ipykernel_launcher.py:5: SettingWithCopyWarning: \n",
      "A value is trying to be set on a copy of a slice from a DataFrame\n",
      "\n",
      "See the caveats in the documentation: http://pandas.pydata.org/pandas-docs/stable/indexing.html#indexing-view-versus-copy\n",
      "  \"\"\"\n",
      "E:\\python\\lib\\site-packages\\ipykernel_launcher.py:6: SettingWithCopyWarning: \n",
      "A value is trying to be set on a copy of a slice from a DataFrame\n",
      "\n",
      "See the caveats in the documentation: http://pandas.pydata.org/pandas-docs/stable/indexing.html#indexing-view-versus-copy\n",
      "  \n"
     ]
    }
   ],
   "source": [
    "#异常值处理：负数处理 delta_price1/delta_price2 /lowestprice/customer_value_profit/ctrip_profits五个字段负数替换为0;\n",
    "data_raw.delta_price1[data_raw.delta_price1<0]=data_raw.delta_price1.median()\n",
    "data_raw.delta_price2[data_raw.delta_price2<0]=data_raw.delta_price2.median()\n",
    "data_raw.lowestprice[data_raw.lowestprice<0]=data_raw.lowestprice.median()\n",
    "data_raw.ctrip_profits[data_raw.ctrip_profits<0]=0\n",
    "data_raw.customer_value_profit[data_raw.customer_value_profit<0]=0"
   ]
  },
  {
   "cell_type": "code",
   "execution_count": 12,
   "metadata": {},
   "outputs": [
    {
     "name": "stdout",
     "output_type": "stream",
     "text": [
      "<class 'pandas.core.frame.DataFrame'>\n",
      "RangeIndex: 689945 entries, 0 to 689944\n",
      "Data columns (total 55 columns):\n",
      "label                               689945 non-null int64\n",
      "sampleid                            689945 non-null int64\n",
      "d                                   689945 non-null datetime64[ns]\n",
      "arrival                             689945 non-null datetime64[ns]\n",
      "iforderpv_24h                       689945 non-null int64\n",
      "decisionhabit_user                  689945 non-null float64\n",
      "historyvisit_7ordernum              689945 non-null float64\n",
      "historyvisit_totalordernum          689945 non-null float64\n",
      "hotelcr                             689945 non-null float64\n",
      "ordercanceledprecent                689945 non-null float64\n",
      "landhalfhours                       689945 non-null float64\n",
      "ordercanncelednum                   689945 non-null float64\n",
      "commentnums                         689945 non-null float64\n",
      "starprefer                          689945 non-null float64\n",
      "novoters                            689945 non-null float64\n",
      "consuming_capacity                  689945 non-null float64\n",
      "historyvisit_avghotelnum            689945 non-null float64\n",
      "cancelrate                          689945 non-null float64\n",
      "historyvisit_visit_detailpagenum    689945 non-null float64\n",
      "delta_price1                        689945 non-null float64\n",
      "price_sensitive                     689945 non-null float64\n",
      "hoteluv                             689945 non-null float64\n",
      "businessrate_pre                    689945 non-null float64\n",
      "ordernum_oneyear                    689945 non-null float64\n",
      "cr_pre                              689945 non-null float64\n",
      "avgprice                            689945 non-null float64\n",
      "lowestprice                         689945 non-null float64\n",
      "firstorder_bu                       689945 non-null float64\n",
      "customereval_pre2                   689945 non-null float64\n",
      "delta_price2                        689945 non-null float64\n",
      "commentnums_pre                     689945 non-null float64\n",
      "customer_value_profit               689945 non-null float64\n",
      "commentnums_pre2                    689945 non-null float64\n",
      "cancelrate_pre                      689945 non-null float64\n",
      "novoters_pre2                       689945 non-null float64\n",
      "novoters_pre                        689945 non-null float64\n",
      "ctrip_profits                       689945 non-null float64\n",
      "deltaprice_pre2_t1                  689945 non-null float64\n",
      "lowestprice_pre                     689945 non-null float64\n",
      "uv_pre                              689945 non-null float64\n",
      "uv_pre2                             689945 non-null float64\n",
      "lowestprice_pre2                    689945 non-null float64\n",
      "lasthtlordergap                     689945 non-null float64\n",
      "businessrate_pre2                   689945 non-null float64\n",
      "cityuvs                             689945 non-null float64\n",
      "cityorders                          689945 non-null float64\n",
      "lastpvgap                           689945 non-null float64\n",
      "cr                                  689945 non-null float64\n",
      "sid                                 689945 non-null int64\n",
      "visitnum_oneyear                    689945 non-null float64\n",
      "h                                   689945 non-null int64\n",
      "historyvisit_7ordernum_null         689945 non-null int64\n",
      "Reservation                         689945 non-null int64\n",
      "arrival_week                        689945 non-null int64\n",
      "d_week                              689945 non-null int64\n",
      "dtypes: datetime64[ns](2), float64(44), int64(9)\n",
      "memory usage: 289.5 MB\n"
     ]
    },
    {
     "data": {
      "text/plain": [
       "1"
      ]
     },
     "execution_count": 12,
     "metadata": {},
     "output_type": "execute_result"
    }
   ],
   "source": [
    "data_raw.info()\n",
    "len(hig_na)"
   ]
  },
  {
   "cell_type": "code",
   "execution_count": 15,
   "metadata": {},
   "outputs": [
    {
     "data": {
      "text/plain": [
       "array([[0., 0., 0., ..., 1., 1., 0.],\n",
       "       [0., 0., 0., ..., 1., 1., 0.],\n",
       "       [0., 0., 0., ..., 1., 1., 0.],\n",
       "       ...,\n",
       "       [0., 0., 0., ..., 1., 1., 0.],\n",
       "       [0., 0., 0., ..., 1., 1., 0.],\n",
       "       [0., 0., 0., ..., 0., 0., 0.]])"
      ]
     },
     "execution_count": 15,
     "metadata": {},
     "output_type": "execute_result"
    }
   ],
   "source": [
    "#盖帽法处理极值\n",
    "data1 =np.array(data_x)\n",
    "for i in range(51):\n",
    "    if type(data1[:,i][1])==float:\n",
    "        a=data1[:,i]                #索引data1里的第i列并放入a\n",
    "        b=np.percentile(a,1)        #计算a里的1%分位数\n",
    "        c=np.percentile(a,99)      #计算a里的99%分位数\n",
    "        for j in range(0,len(data1[:,0])): #j从0到一列数据的总个数循环\n",
    "            if a[j]<b:          #如果data1里的第i列里的第j个数小于1%分位数\n",
    "                a[j]=b          #就把data1里的第i列里的第j个数换成1%分位数\n",
    "            elif a[j]>c:\n",
    "                a[j]=c\n",
    "            else:\n",
    "                a[j]\n",
    "data1\n",
    "            "
   ]
  },
  {
   "cell_type": "code",
   "execution_count": 15,
   "metadata": {},
   "outputs": [],
   "source": [
    "#保存处理后的数据\n",
    "data_raw.to_csv('data_raw_0值填充.csv')"
   ]
  },
  {
   "cell_type": "code",
   "execution_count": 14,
   "metadata": {},
   "outputs": [],
   "source": [
    "#过滤无用的维度\n",
    "filter_feature = ['sampleid','d','arrival','label'] # 过滤无用的维度\n",
    "features = []\n",
    "for x in data_raw.columns: # 取特征\n",
    "    if x not in filter_feature:\n",
    "        features.append(x)"
   ]
  },
  {
   "cell_type": "code",
   "execution_count": 15,
   "metadata": {},
   "outputs": [],
   "source": [
    "#建立X，Y变量\n",
    "data_x=data_raw[features]\n",
    "data_y=data_raw.label"
   ]
  },
  {
   "cell_type": "markdown",
   "metadata": {},
   "source": [
    "# 描述统计"
   ]
  },
  {
   "cell_type": "code",
   "execution_count": null,
   "metadata": {},
   "outputs": [],
   "source": [
    "#单变量分布观察,输出分布图\n",
    "for i in range(51):\n",
    "    plt.figure(figsize=(20,10),dpi=100)\n",
    "    plt.hist(data_raw.iloc[:,i].dropna().get_values(),bins=100)\n",
    "    plt.xlabel(data_raw.columns[i])\n",
    "    #plt.savefig(\"{}.png\".format(data_raw.columns[i]))\n",
    "    plt.show()\n"
   ]
  },
  {
   "cell_type": "code",
   "execution_count": null,
   "metadata": {},
   "outputs": [],
   "source": [
    "#分布箱线图\n",
    "for i in range(51):\n",
    "    plt.figure(figsize=(20,10),dpi=100)\n",
    "    plt.boxplot(data_raw.iloc[:,i].dropna().get_values(),bins=100)\n",
    "    plt.xlabel(data_raw.columns[i])\n",
    "    #plt.savefig(\"{}.png\".format(data_raw.columns[i]))\n",
    "    plt.show()"
   ]
  },
  {
   "cell_type": "code",
   "execution_count": null,
   "metadata": {},
   "outputs": [],
   "source": [
    "#双变量相关分析\n",
    "#data_raw.corr().to_excel(\"CorrData.xlsx\")\n",
    "cor_matrix=data_raw.corr()"
   ]
  },
  {
   "cell_type": "code",
   "execution_count": 17,
   "metadata": {},
   "outputs": [
    {
     "data": {
      "text/plain": [
       "<matplotlib.axes._subplots.AxesSubplot at 0x2300fb1ea90>"
      ]
     },
     "execution_count": 17,
     "metadata": {},
     "output_type": "execute_result"
    },
    {
     "data": {
      "image/png": "[encoded data removed]",
      "text/plain": [
       "<Figure size 720x576 with 2 Axes>"
      ]
     },
     "metadata": {
      "needs_background": "light"
     },
     "output_type": "display_data"
    }
   ],
   "source": [
    "#相关图\n",
    "\n",
    "corrmat = data_raw[features].corr()\n",
    "f, ax = plt.subplots(figsize=(10, 8))\n",
    "plt.xticks(rotation='0')\n",
    "sns.heatmap(corrmat, square=False, linewidths=.5, annot=False)\n"
   ]
  },
  {
   "cell_type": "code",
   "execution_count": 16,
   "metadata": {},
   "outputs": [
    {
     "name": "stdout",
     "output_type": "stream",
     "text": [
      "<class 'pandas.core.frame.DataFrame'>\n",
      "RangeIndex: 689945 entries, 0 to 689944\n",
      "Data columns (total 51 columns):\n",
      "iforderpv_24h                       689945 non-null float64\n",
      "decisionhabit_user                  689945 non-null float64\n",
      "historyvisit_7ordernum              689945 non-null float64\n",
      "historyvisit_totalordernum          689945 non-null float64\n",
      "hotelcr                             689945 non-null float64\n",
      "ordercanceledprecent                689945 non-null float64\n",
      "landhalfhours                       689945 non-null float64\n",
      "ordercanncelednum                   689945 non-null float64\n",
      "commentnums                         689945 non-null float64\n",
      "starprefer                          689945 non-null float64\n",
      "novoters                            689945 non-null float64\n",
      "consuming_capacity                  689945 non-null float64\n",
      "historyvisit_avghotelnum            689945 non-null float64\n",
      "cancelrate                          689945 non-null float64\n",
      "historyvisit_visit_detailpagenum    689945 non-null float64\n",
      "delta_price1                        689945 non-null float64\n",
      "price_sensitive                     689945 non-null float64\n",
      "hoteluv                             689945 non-null float64\n",
      "businessrate_pre                    689945 non-null float64\n",
      "ordernum_oneyear                    689945 non-null float64\n",
      "cr_pre                              689945 non-null float64\n",
      "avgprice                            689945 non-null float64\n",
      "lowestprice                         689945 non-null float64\n",
      "firstorder_bu                       689945 non-null float64\n",
      "customereval_pre2                   689945 non-null float64\n",
      "delta_price2                        689945 non-null float64\n",
      "commentnums_pre                     689945 non-null float64\n",
      "customer_value_profit               689945 non-null float64\n",
      "commentnums_pre2                    689945 non-null float64\n",
      "cancelrate_pre                      689945 non-null float64\n",
      "novoters_pre2                       689945 non-null float64\n",
      "novoters_pre                        689945 non-null float64\n",
      "ctrip_profits                       689945 non-null float64\n",
      "deltaprice_pre2_t1                  689945 non-null float64\n",
      "lowestprice_pre                     689945 non-null float64\n",
      "uv_pre                              689945 non-null float64\n",
      "uv_pre2                             689945 non-null float64\n",
      "lowestprice_pre2                    689945 non-null float64\n",
      "lasthtlordergap                     689945 non-null float64\n",
      "businessrate_pre2                   689945 non-null float64\n",
      "cityuvs                             689945 non-null float64\n",
      "cityorders                          689945 non-null float64\n",
      "lastpvgap                           689945 non-null float64\n",
      "cr                                  689945 non-null float64\n",
      "sid                                 689945 non-null float64\n",
      "visitnum_oneyear                    689945 non-null float64\n",
      "h                                   689945 non-null float64\n",
      "Reservation                         689945 non-null float64\n",
      "arrival_week                        689945 non-null float64\n",
      "d_week                              689945 non-null float64\n",
      "historyvisit_7ordernum_null         689945 non-null float64\n",
      "dtypes: float64(51)\n",
      "memory usage: 268.5 MB\n"
     ]
    }
   ],
   "source": [
    "data_x=pd.DataFrame(data1,columns=features) \n",
    "data_x.info()"
   ]
  },
  {
   "cell_type": "markdown",
   "metadata": {},
   "source": [
    "# 聚类"
   ]
  },
  {
   "cell_type": "code",
   "execution_count": 17,
   "metadata": {
    "scrolled": true
   },
   "outputs": [
    {
     "name": "stderr",
     "output_type": "stream",
     "text": [
      "E:\\python\\lib\\site-packages\\sklearn\\preprocessing\\data.py:625: DataConversionWarning: Data with input dtype int64, float64 were all converted to float64 by StandardScaler.\n",
      "  return self.partial_fit(X, y)\n",
      "E:\\python\\lib\\site-packages\\sklearn\\base.py:462: DataConversionWarning: Data with input dtype int64, float64 were all converted to float64 by StandardScaler.\n",
      "  return self.fit(X, **fit_params).transform(X)\n"
     ]
    }
   ],
   "source": [
    "# 提取特征\n",
    "data1 = data_raw[['Reservation','historyvisit_totalordernum','historyvisit_7ordernum','delta_price1','ctrip_profits','ordercanncelednum','ordernum_oneyear','lasthtlordergap','consuming_capacity','price_sensitive','starprefer','lastpvgap','visitnum_oneyear','landhalfhours']]\n",
    "#第二种聚类指标'Reservation','historyvisit_totalordernum','historyvisit_7ordernum','delta_price1','ordercanceledprecent','ordercanncelednum','historyvisit_avghotelnum',\n",
    "from sklearn.preprocessing import StandardScaler\n",
    "scaler = StandardScaler()\n",
    "data2 = scaler.fit_transform(data1)\n",
    "data2 = pd.DataFrame(data2,columns=data1.columns)"
   ]
  },
  {
   "cell_type": "code",
   "execution_count": 18,
   "metadata": {
    "scrolled": true
   },
   "outputs": [
    {
     "data": {
      "text/html": [
       "<div>\n",
       "<style scoped>\n",
       "    .dataframe tbody tr th:only-of-type {\n",
       "        vertical-align: middle;\n",
       "    }\n",
       "\n",
       "    .dataframe tbody tr th {\n",
       "        vertical-align: top;\n",
       "    }\n",
       "\n",
       "    .dataframe thead th {\n",
       "        text-align: right;\n",
       "    }\n",
       "</style>\n",
       "<table border=\"1\" class=\"dataframe\">\n",
       "  <thead>\n",
       "    <tr style=\"text-align: right;\">\n",
       "      <th></th>\n",
       "      <th>Reservation</th>\n",
       "      <th>historyvisit_totalordernum</th>\n",
       "      <th>historyvisit_7ordernum</th>\n",
       "      <th>delta_price1</th>\n",
       "      <th>ctrip_profits</th>\n",
       "      <th>ordercanncelednum</th>\n",
       "      <th>ordernum_oneyear</th>\n",
       "      <th>lasthtlordergap</th>\n",
       "      <th>consuming_capacity</th>\n",
       "      <th>price_sensitive</th>\n",
       "      <th>starprefer</th>\n",
       "      <th>lastpvgap</th>\n",
       "      <th>visitnum_oneyear</th>\n",
       "      <th>landhalfhours</th>\n",
       "    </tr>\n",
       "    <tr>\n",
       "      <th>labels</th>\n",
       "      <th></th>\n",
       "      <th></th>\n",
       "      <th></th>\n",
       "      <th></th>\n",
       "      <th></th>\n",
       "      <th></th>\n",
       "      <th></th>\n",
       "      <th></th>\n",
       "      <th></th>\n",
       "      <th></th>\n",
       "      <th></th>\n",
       "      <th></th>\n",
       "      <th></th>\n",
       "      <th></th>\n",
       "    </tr>\n",
       "  </thead>\n",
       "  <tbody>\n",
       "    <tr>\n",
       "      <th>0</th>\n",
       "      <td>0.169496</td>\n",
       "      <td>-0.247027</td>\n",
       "      <td>-0.192109</td>\n",
       "      <td>0.176313</td>\n",
       "      <td>-0.147242</td>\n",
       "      <td>-0.110205</td>\n",
       "      <td>-0.265444</td>\n",
       "      <td>2.146277</td>\n",
       "      <td>0.305862</td>\n",
       "      <td>0.145368</td>\n",
       "      <td>0.472948</td>\n",
       "      <td>0.611877</td>\n",
       "      <td>-0.038703</td>\n",
       "      <td>-0.045743</td>\n",
       "    </tr>\n",
       "    <tr>\n",
       "      <th>1</th>\n",
       "      <td>-0.285972</td>\n",
       "      <td>3.089012</td>\n",
       "      <td>1.055175</td>\n",
       "      <td>0.379267</td>\n",
       "      <td>1.921327</td>\n",
       "      <td>2.638063</td>\n",
       "      <td>3.146657</td>\n",
       "      <td>-0.403326</td>\n",
       "      <td>0.695309</td>\n",
       "      <td>0.263375</td>\n",
       "      <td>0.820481</td>\n",
       "      <td>-0.301039</td>\n",
       "      <td>0.058573</td>\n",
       "      <td>0.063437</td>\n",
       "    </tr>\n",
       "    <tr>\n",
       "      <th>2</th>\n",
       "      <td>0.019202</td>\n",
       "      <td>-0.423116</td>\n",
       "      <td>-0.152898</td>\n",
       "      <td>-0.524370</td>\n",
       "      <td>-0.330840</td>\n",
       "      <td>-0.291078</td>\n",
       "      <td>-0.461542</td>\n",
       "      <td>-0.518848</td>\n",
       "      <td>-0.883787</td>\n",
       "      <td>-0.621439</td>\n",
       "      <td>-1.055980</td>\n",
       "      <td>0.001977</td>\n",
       "      <td>-0.020475</td>\n",
       "      <td>-0.028336</td>\n",
       "    </tr>\n",
       "    <tr>\n",
       "      <th>3</th>\n",
       "      <td>-0.038399</td>\n",
       "      <td>0.101714</td>\n",
       "      <td>0.078137</td>\n",
       "      <td>0.397845</td>\n",
       "      <td>0.126076</td>\n",
       "      <td>-0.013626</td>\n",
       "      <td>0.137433</td>\n",
       "      <td>-0.156589</td>\n",
       "      <td>0.660687</td>\n",
       "      <td>0.515579</td>\n",
       "      <td>0.755407</td>\n",
       "      <td>-0.165231</td>\n",
       "      <td>0.025042</td>\n",
       "      <td>0.034289</td>\n",
       "    </tr>\n",
       "  </tbody>\n",
       "</table>\n",
       "</div>"
      ],
      "text/plain": [
       "        Reservation  historyvisit_totalordernum  historyvisit_7ordernum  \\\n",
       "labels                                                                    \n",
       "0          0.169496                   -0.247027               -0.192109   \n",
       "1         -0.285972                    3.089012                1.055175   \n",
       "2          0.019202                   -0.423116               -0.152898   \n",
       "3         -0.038399                    0.101714                0.078137   \n",
       "\n",
       "        delta_price1  ctrip_profits  ordercanncelednum  ordernum_oneyear  \\\n",
       "labels                                                                     \n",
       "0           0.176313      -0.147242          -0.110205         -0.265444   \n",
       "1           0.379267       1.921327           2.638063          3.146657   \n",
       "2          -0.524370      -0.330840          -0.291078         -0.461542   \n",
       "3           0.397845       0.126076          -0.013626          0.137433   \n",
       "\n",
       "        lasthtlordergap  consuming_capacity  price_sensitive  starprefer  \\\n",
       "labels                                                                     \n",
       "0              2.146277            0.305862         0.145368    0.472948   \n",
       "1             -0.403326            0.695309         0.263375    0.820481   \n",
       "2             -0.518848           -0.883787        -0.621439   -1.055980   \n",
       "3             -0.156589            0.660687         0.515579    0.755407   \n",
       "\n",
       "        lastpvgap  visitnum_oneyear  landhalfhours  \n",
       "labels                                              \n",
       "0        0.611877         -0.038703      -0.045743  \n",
       "1       -0.301039          0.058573       0.063437  \n",
       "2        0.001977         -0.020475      -0.028336  \n",
       "3       -0.165231          0.025042       0.034289  "
      ]
     },
     "execution_count": 18,
     "metadata": {},
     "output_type": "execute_result"
    }
   ],
   "source": [
    "# 聚类\n",
    "from sklearn.cluster import KMeans\n",
    "Kmodel=KMeans(4)\n",
    "Kmodel.fit(data2)\n",
    "lable2 = Kmodel.predict(data2)\n",
    "data2['labels'] = lable2\n",
    "\n",
    "data2.groupby('labels').mean() #查看分布情况"
   ]
  },
  {
   "cell_type": "code",
   "execution_count": 19,
   "metadata": {},
   "outputs": [
    {
     "data": {
      "image/png": "[encoded data removed]",
      "text/plain": [
       "<Figure size 432x648 with 1 Axes>"
      ]
     },
     "metadata": {},
     "output_type": "display_data"
    }
   ],
   "source": [
    "# 画饼图\n",
    "from matplotlib import pyplot as plt \n",
    "from pylab import mpl\n",
    "mpl.rcParams['font.sans-serif'] = ['SimHei']\n",
    "\n",
    "plt.figure(figsize=(6,9))    #调节图形大小，宽，高\n",
    "labels = [u'新用户',u'低价值用户',u'追求高品质用户',u'高价值用户']    #定义饼状图的标签，标签是列表\n",
    "sizes = data2.groupby('labels')['labels'].count()    #每个标签占多大，会自动去算百分比\n",
    "colors = ['red','yellowgreen','lightskyblue','blue']\n",
    "explode = (0.05,0,0,0)    #将某部分爆炸出来， 使用括号，将第一块分割出来，数值的大小是分割出来的与其他两块的间隙\n",
    "patches,l_text,p_text = plt.pie(sizes,explode=explode,labels=labels,\n",
    "                                labeldistance = 1.1,autopct = '%3.1f%%',shadow = False,\n",
    "                                startangle = 90,pctdistance = 0.6)\n",
    "for t in l_text:\n",
    "    t.set_size=(30)\n",
    "for t in p_text:\n",
    "    t.set_size=(20)\n",
    "# 设置x，y轴刻度一致，这样饼图才能是圆的\n",
    "plt.axis('equal')\n",
    "plt.legend()\n",
    "plt.show()"
   ]
  },
  {
   "cell_type": "markdown",
   "metadata": {},
   "source": [
    "# 特征选择 "
   ]
  },
  {
   "cell_type": "code",
   "execution_count": 21,
   "metadata": {},
   "outputs": [],
   "source": [
    "#过滤无用的维度\n",
    "filter_feature = ['sampleid','d','arrival','label','commentnums','commentnums_pre','commentnums_pre2','decisionhabit_user','historyvisit_avghotelnum','novoters_pre2','novoters','novoters_pre','deltaprice_pre2_t1','customereval_pre2','cancelrate','sid','ordernum_oneyear'] #,\n",
    "#,'commentnums','commentnums','commentnums_pre','commentnums_pre2','decisionhabit_user','historyvisit_avghotelnum','novoters_pre2','novoters','novoters_pre','deltaprice_pre2_t1','customereval_pre2','d_week','arrival_week','cancelrate','sid',\n",
    "# 过滤无用的维度#,'visitnum_oneyear','cityorders','cityorders','lastpvgap','lowestprice_pre','commentnums_pre','novoters_pre'\n",
    "#,'historyvisit_avghotelnum','ordernum_oneyear','novoters','novoters_pre','novoters_pre2','delta_price2','businessrate_pre2','cityorders','commentnums','commentnums_pre','commentnums_pre2','decisionhabit_user','deltaprice_pre2_t1','customereval_pre2','d_week','arrival_week','cancelrate','sid'\n",
    "\n",
    "features = []\n",
    "for x in data_raw.columns: # 取特征\n",
    "    if x not in filter_feature:\n",
    "        features.append(x)"
   ]
  },
  {
   "cell_type": "code",
   "execution_count": 22,
   "metadata": {},
   "outputs": [],
   "source": [
    "#建立X，Y变量\n",
    "data_x=data_raw[features]\n",
    "data_y=data_raw.label"
   ]
  },
  {
   "cell_type": "code",
   "execution_count": 23,
   "metadata": {
    "scrolled": true
   },
   "outputs": [
    {
     "name": "stderr",
     "output_type": "stream",
     "text": [
      "E:\\python\\lib\\site-packages\\ipykernel_launcher.py:3: SettingWithCopyWarning: \n",
      "A value is trying to be set on a copy of a slice from a DataFrame.\n",
      "Try using .loc[row_indexer,col_indexer] = value instead\n",
      "\n",
      "See the caveats in the documentation: http://pandas.pydata.org/pandas-docs/stable/indexing.html#indexing-view-versus-copy\n",
      "  This is separate from the ipykernel package so we can avoid doing imports until\n",
      "E:\\python\\lib\\site-packages\\sklearn\\preprocessing\\data.py:625: DataConversionWarning: Data with input dtype int32, int64, float64 were all converted to float64 by StandardScaler.\n",
      "  return self.partial_fit(X, y)\n",
      "E:\\python\\lib\\site-packages\\ipykernel_launcher.py:7: DataConversionWarning: Data with input dtype int32, int64, float64 were all converted to float64 by StandardScaler.\n",
      "  import sys\n"
     ]
    }
   ],
   "source": [
    "#标准化\n",
    "from sklearn.preprocessing import StandardScaler\n",
    "data_x['cus_label']=data2['labels']\n",
    "x=data_x\n",
    "scaler = StandardScaler()\n",
    "scaler.fit(x)\n",
    "x= scaler.transform(data_x)\n",
    "y=data_y "
   ]
  },
  {
   "cell_type": "code",
   "execution_count": 22,
   "metadata": {},
   "outputs": [
    {
     "data": {
      "text/html": [
       "<div>\n",
       "<style scoped>\n",
       "    .dataframe tbody tr th:only-of-type {\n",
       "        vertical-align: middle;\n",
       "    }\n",
       "\n",
       "    .dataframe tbody tr th {\n",
       "        vertical-align: top;\n",
       "    }\n",
       "\n",
       "    .dataframe thead th {\n",
       "        text-align: right;\n",
       "    }\n",
       "</style>\n",
       "<table border=\"1\" class=\"dataframe\">\n",
       "  <thead>\n",
       "    <tr style=\"text-align: right;\">\n",
       "      <th></th>\n",
       "      <th>0</th>\n",
       "    </tr>\n",
       "  </thead>\n",
       "  <tbody>\n",
       "    <tr>\n",
       "      <th>commentnums</th>\n",
       "      <td>0.060286</td>\n",
       "    </tr>\n",
       "    <tr>\n",
       "      <th>commentnums_pre</th>\n",
       "      <td>0.099400</td>\n",
       "    </tr>\n",
       "    <tr>\n",
       "      <th>commentnums_pre2</th>\n",
       "      <td>0.224231</td>\n",
       "    </tr>\n",
       "    <tr>\n",
       "      <th>decisionhabit_user</th>\n",
       "      <td>0.817585</td>\n",
       "    </tr>\n",
       "    <tr>\n",
       "      <th>historyvisit_avghotelnum</th>\n",
       "      <td>3.863996</td>\n",
       "    </tr>\n",
       "    <tr>\n",
       "      <th>novoters_pre2</th>\n",
       "      <td>7.151279</td>\n",
       "    </tr>\n",
       "    <tr>\n",
       "      <th>novoters</th>\n",
       "      <td>8.248222</td>\n",
       "    </tr>\n",
       "    <tr>\n",
       "      <th>novoters_pre</th>\n",
       "      <td>9.651918</td>\n",
       "    </tr>\n",
       "    <tr>\n",
       "      <th>deltaprice_pre2_t1</th>\n",
       "      <td>42.793554</td>\n",
       "    </tr>\n",
       "    <tr>\n",
       "      <th>customereval_pre2</th>\n",
       "      <td>47.658903</td>\n",
       "    </tr>\n",
       "    <tr>\n",
       "      <th>d_week</th>\n",
       "      <td>58.660809</td>\n",
       "    </tr>\n",
       "    <tr>\n",
       "      <th>arrival_week</th>\n",
       "      <td>58.660809</td>\n",
       "    </tr>\n",
       "    <tr>\n",
       "      <th>cancelrate</th>\n",
       "      <td>81.108853</td>\n",
       "    </tr>\n",
       "    <tr>\n",
       "      <th>sid</th>\n",
       "      <td>90.583978</td>\n",
       "    </tr>\n",
       "    <tr>\n",
       "      <th>lastpvgap</th>\n",
       "      <td>100.625427</td>\n",
       "    </tr>\n",
       "    <tr>\n",
       "      <th>historyvisit_visit_detailpagenum</th>\n",
       "      <td>167.966785</td>\n",
       "    </tr>\n",
       "    <tr>\n",
       "      <th>cancelrate_pre</th>\n",
       "      <td>231.840106</td>\n",
       "    </tr>\n",
       "    <tr>\n",
       "      <th>visitnum_oneyear</th>\n",
       "      <td>474.689479</td>\n",
       "    </tr>\n",
       "    <tr>\n",
       "      <th>lasthtlordergap</th>\n",
       "      <td>617.391646</td>\n",
       "    </tr>\n",
       "    <tr>\n",
       "      <th>landhalfhours</th>\n",
       "      <td>654.860230</td>\n",
       "    </tr>\n",
       "    <tr>\n",
       "      <th>lowestprice_pre</th>\n",
       "      <td>950.893196</td>\n",
       "    </tr>\n",
       "    <tr>\n",
       "      <th>lowestprice</th>\n",
       "      <td>1209.396046</td>\n",
       "    </tr>\n",
       "    <tr>\n",
       "      <th>firstorder_bu</th>\n",
       "      <td>1230.595039</td>\n",
       "    </tr>\n",
       "    <tr>\n",
       "      <th>delta_price2</th>\n",
       "      <td>1419.793768</td>\n",
       "    </tr>\n",
       "    <tr>\n",
       "      <th>delta_price1</th>\n",
       "      <td>1445.605405</td>\n",
       "    </tr>\n",
       "    <tr>\n",
       "      <th>lowestprice_pre2</th>\n",
       "      <td>1523.496914</td>\n",
       "    </tr>\n",
       "    <tr>\n",
       "      <th>avgprice</th>\n",
       "      <td>1530.402433</td>\n",
       "    </tr>\n",
       "    <tr>\n",
       "      <th>price_sensitive</th>\n",
       "      <td>1796.446895</td>\n",
       "    </tr>\n",
       "    <tr>\n",
       "      <th>hoteluv</th>\n",
       "      <td>1869.458204</td>\n",
       "    </tr>\n",
       "    <tr>\n",
       "      <th>uv_pre</th>\n",
       "      <td>1911.065683</td>\n",
       "    </tr>\n",
       "    <tr>\n",
       "      <th>ordercanceledprecent</th>\n",
       "      <td>2069.285673</td>\n",
       "    </tr>\n",
       "    <tr>\n",
       "      <th>cus_label</th>\n",
       "      <td>2322.034184</td>\n",
       "    </tr>\n",
       "    <tr>\n",
       "      <th>uv_pre2</th>\n",
       "      <td>2346.919023</td>\n",
       "    </tr>\n",
       "    <tr>\n",
       "      <th>consuming_capacity</th>\n",
       "      <td>2622.300509</td>\n",
       "    </tr>\n",
       "    <tr>\n",
       "      <th>h</th>\n",
       "      <td>4193.757111</td>\n",
       "    </tr>\n",
       "    <tr>\n",
       "      <th>cr</th>\n",
       "      <td>4195.501241</td>\n",
       "    </tr>\n",
       "    <tr>\n",
       "      <th>ctrip_profits</th>\n",
       "      <td>4527.466262</td>\n",
       "    </tr>\n",
       "    <tr>\n",
       "      <th>customer_value_profit</th>\n",
       "      <td>5093.176222</td>\n",
       "    </tr>\n",
       "    <tr>\n",
       "      <th>hotelcr</th>\n",
       "      <td>5871.801404</td>\n",
       "    </tr>\n",
       "    <tr>\n",
       "      <th>cr_pre</th>\n",
       "      <td>5976.925672</td>\n",
       "    </tr>\n",
       "    <tr>\n",
       "      <th>ordercanncelednum</th>\n",
       "      <td>6638.080779</td>\n",
       "    </tr>\n",
       "    <tr>\n",
       "      <th>starprefer</th>\n",
       "      <td>6790.952463</td>\n",
       "    </tr>\n",
       "    <tr>\n",
       "      <th>cityuvs</th>\n",
       "      <td>7197.970895</td>\n",
       "    </tr>\n",
       "    <tr>\n",
       "      <th>cityorders</th>\n",
       "      <td>7552.077502</td>\n",
       "    </tr>\n",
       "    <tr>\n",
       "      <th>iforderpv_24h</th>\n",
       "      <td>8498.573681</td>\n",
       "    </tr>\n",
       "    <tr>\n",
       "      <th>businessrate_pre</th>\n",
       "      <td>9205.702455</td>\n",
       "    </tr>\n",
       "    <tr>\n",
       "      <th>historyvisit_7ordernum</th>\n",
       "      <td>10901.937678</td>\n",
       "    </tr>\n",
       "    <tr>\n",
       "      <th>businessrate_pre2</th>\n",
       "      <td>12085.283963</td>\n",
       "    </tr>\n",
       "    <tr>\n",
       "      <th>historyvisit_totalordernum</th>\n",
       "      <td>15230.060653</td>\n",
       "    </tr>\n",
       "    <tr>\n",
       "      <th>Reservation</th>\n",
       "      <td>16704.500834</td>\n",
       "    </tr>\n",
       "    <tr>\n",
       "      <th>historyvisit_7ordernum_null</th>\n",
       "      <td>16935.415603</td>\n",
       "    </tr>\n",
       "    <tr>\n",
       "      <th>ordernum_oneyear</th>\n",
       "      <td>17003.493542</td>\n",
       "    </tr>\n",
       "  </tbody>\n",
       "</table>\n",
       "</div>"
      ],
      "text/plain": [
       "                                             0\n",
       "commentnums                           0.060286\n",
       "commentnums_pre                       0.099400\n",
       "commentnums_pre2                      0.224231\n",
       "decisionhabit_user                    0.817585\n",
       "historyvisit_avghotelnum              3.863996\n",
       "novoters_pre2                         7.151279\n",
       "novoters                              8.248222\n",
       "novoters_pre                          9.651918\n",
       "deltaprice_pre2_t1                   42.793554\n",
       "customereval_pre2                    47.658903\n",
       "d_week                               58.660809\n",
       "arrival_week                         58.660809\n",
       "cancelrate                           81.108853\n",
       "sid                                  90.583978\n",
       "lastpvgap                           100.625427\n",
       "historyvisit_visit_detailpagenum    167.966785\n",
       "cancelrate_pre                      231.840106\n",
       "visitnum_oneyear                    474.689479\n",
       "lasthtlordergap                     617.391646\n",
       "landhalfhours                       654.860230\n",
       "lowestprice_pre                     950.893196\n",
       "lowestprice                        1209.396046\n",
       "firstorder_bu                      1230.595039\n",
       "delta_price2                       1419.793768\n",
       "delta_price1                       1445.605405\n",
       "lowestprice_pre2                   1523.496914\n",
       "avgprice                           1530.402433\n",
       "price_sensitive                    1796.446895\n",
       "hoteluv                            1869.458204\n",
       "uv_pre                             1911.065683\n",
       "ordercanceledprecent               2069.285673\n",
       "cus_label                          2322.034184\n",
       "uv_pre2                            2346.919023\n",
       "consuming_capacity                 2622.300509\n",
       "h                                  4193.757111\n",
       "cr                                 4195.501241\n",
       "ctrip_profits                      4527.466262\n",
       "customer_value_profit              5093.176222\n",
       "hotelcr                            5871.801404\n",
       "cr_pre                             5976.925672\n",
       "ordercanncelednum                  6638.080779\n",
       "starprefer                         6790.952463\n",
       "cityuvs                            7197.970895\n",
       "cityorders                         7552.077502\n",
       "iforderpv_24h                      8498.573681\n",
       "businessrate_pre                   9205.702455\n",
       "historyvisit_7ordernum            10901.937678\n",
       "businessrate_pre2                 12085.283963\n",
       "historyvisit_totalordernum        15230.060653\n",
       "Reservation                       16704.500834\n",
       "historyvisit_7ordernum_null       16935.415603\n",
       "ordernum_oneyear                  17003.493542"
      ]
     },
     "execution_count": 22,
     "metadata": {},
     "output_type": "execute_result"
    }
   ],
   "source": [
    "from sklearn.feature_selection import VarianceThreshold\n",
    "#SelectKBest(score_func,k)\n",
    "#其中 score_func 传入用于特征评分的统计检验方法，默认是 f_classif，它计算的是单变量与训练 target 间的方差分析F值（Anova F-value）；k 传入用户想要根据评分从高到低留下的变量的个数，默认是10。\n",
    "#注意，当选用默认的 f_classif 方法时，只适用于分类任务，即目标变量为分类变量（因为只有目标变量是分类变量，才好进行方差分析）。\n",
    "\n",
    "#先使用Filter法的方差分析筛选：\n",
    "\n",
    "from sklearn.feature_selection import SelectKBest, f_classif\n",
    "selector = SelectKBest(f_classif)\n",
    "a=selector.fit(x,y)\n",
    "#print(np.array(a.scores_),'\\n',a.get_support())\n",
    "pd.DataFrame(np.array(a.scores_),list(data_x.columns)).sort_values(by=0)\n"
   ]
  },
  {
   "cell_type": "code",
   "execution_count": 34,
   "metadata": {},
   "outputs": [
    {
     "name": "stderr",
     "output_type": "stream",
     "text": [
      "E:\\python\\lib\\site-packages\\sklearn\\linear_model\\logistic.py:433: FutureWarning: Default solver will be changed to 'lbfgs' in 0.22. Specify a solver to silence this warning.\n",
      "  FutureWarning)\n"
     ]
    }
   ],
   "source": [
    "from sklearn.feature_selection import RFE\n",
    "from sklearn.linear_model import LogisticRegression\n",
    "\n",
    "#递归特征消除法，返回特征选择后的数据\n",
    "#参数estimator为基模型\n",
    "#参数n_features_to_select为选择的特征个数\n",
    "a=RFE(estimator=LogisticRegression(), n_features_to_select=42).fit_transform(x,y)"
   ]
  },
  {
   "cell_type": "markdown",
   "metadata": {},
   "source": [
    "# 建模"
   ]
  },
  {
   "cell_type": "code",
   "execution_count": 26,
   "metadata": {},
   "outputs": [],
   "source": [
    "#导入模型，建包\n",
    "from sklearn.linear_model import LogisticRegression\n",
    "from sklearn.ensemble import RandomForestClassifier\n",
    "from sklearn.svm import SVC\n",
    "\n",
    "#import xgboost as xgb\n",
    "from sklearn import metrics\n",
    "from sklearn.model_selection import train_test_split, GridSearchCV\n",
    "from sklearn.metrics import classification_report\n",
    "\n",
    "x_train,x_test,y_train,y_test = train_test_split(x,y,test_size= .2,random_state=1234)"
   ]
  },
  {
   "cell_type": "code",
   "execution_count": 27,
   "metadata": {
    "scrolled": false
   },
   "outputs": [
    {
     "name": "stderr",
     "output_type": "stream",
     "text": [
      "E:\\python\\lib\\site-packages\\sklearn\\linear_model\\logistic.py:433: FutureWarning: Default solver will be changed to 'lbfgs' in 0.22. Specify a solver to silence this warning.\n",
      "  FutureWarning)\n"
     ]
    },
    {
     "name": "stdout",
     "output_type": "stream",
     "text": [
      "[0.1455452639401258, 0.7377617056432034, 0.6986260498979346]\n"
     ]
    }
   ],
   "source": [
    "#逻辑回归模型\n",
    "lr = LogisticRegression()\n",
    "lr.fit(x_train,y_train)\n",
    "y_lr = lr.predict_proba(x_test)[:,1]\n",
    "fpr_lr,tpr_lr,threshold_lr = metrics.roc_curve(y_test,y_lr)\n",
    "auc_lr = metrics.auc(fpr_lr,tpr_lr)\n",
    "score_lr = metrics.accuracy_score(y_test,lr.predict(x_test))\n",
    "recall_lr=metrics.recall_score(y_test,lr.predict(x_test))\n",
    "print([recall_lr,score_lr,auc_lr])\n"
   ]
  },
  {
   "cell_type": "code",
   "execution_count": 28,
   "metadata": {},
   "outputs": [
    {
     "name": "stdout",
     "output_type": "stream",
     "text": [
      "[0.8080363066960375, 0.8886795324264978, 0.8636086339836091]\n"
     ]
    }
   ],
   "source": [
    "#决策树模型\n",
    "from sklearn import tree\n",
    "dtc = tree.DecisionTreeClassifier()\n",
    "dtc.fit(x_train,y_train)\n",
    "y_dtc = dtc.predict_proba(x_test)[:,1]\n",
    "fpr_dtc,tpr_dtc,threshod_dtc= metrics.roc_curve(y_test,y_dtc)\n",
    "recall_dtc=metrics.recall_score(y_test,dtc.predict(x_test))\n",
    "score_dtc=metrics.accuracy_score(y_test,dtc.predict(x_test))\n",
    "auc_dtc = metrics.auc(fpr_dtc,tpr_dtc)\n",
    "print([recall_dtc,score_dtc,auc_dtc])"
   ]
  },
  {
   "cell_type": "code",
   "execution_count": 29,
   "metadata": {},
   "outputs": [
    {
     "name": "stderr",
     "output_type": "stream",
     "text": [
      "E:\\python\\lib\\site-packages\\sklearn\\ensemble\\forest.py:246: FutureWarning: The default value of n_estimators will change from 10 in version 0.20 to 100 in 0.22.\n",
      "  \"10 in version 0.20 to 100 in 0.22.\", FutureWarning)\n"
     ]
    },
    {
     "name": "stdout",
     "output_type": "stream",
     "text": [
      "[0.7297168183868998, 0.9144497025125191, 0.9570623921280745]\n"
     ]
    }
   ],
   "source": [
    "#随机森林\n",
    "rfc = RandomForestClassifier()\n",
    "rfc.fit(x_train,y_train)\n",
    "y_rfc = rfc.predict_proba(x_test)[:,1]\n",
    "fpr_rfc,tpr_rfc,threshold_rfc = metrics.roc_curve(y_test,y_rfc)\n",
    "auc_rfc = metrics.auc(fpr_rfc,tpr_rfc)\n",
    "score_rfc = metrics.accuracy_score(y_test,rfc.predict(x_test))\n",
    "recall_rfc=metrics.recall_score(y_test,rfc.predict(x_test))\n",
    "print([recall_rfc,score_rfc,auc_rfc])\n"
   ]
  },
  {
   "cell_type": "code",
   "execution_count": 30,
   "metadata": {},
   "outputs": [],
   "source": [
    "importance = rfc.feature_importances_\n",
    "features = data_x.columns\n",
    "importance=pd.DataFrame(importance)\n",
    "importance.index=features"
   ]
  },
  {
   "cell_type": "code",
   "execution_count": 31,
   "metadata": {},
   "outputs": [
    {
     "data": {
      "text/html": [
       "<div>\n",
       "<style scoped>\n",
       "    .dataframe tbody tr th:only-of-type {\n",
       "        vertical-align: middle;\n",
       "    }\n",
       "\n",
       "    .dataframe tbody tr th {\n",
       "        vertical-align: top;\n",
       "    }\n",
       "\n",
       "    .dataframe thead th {\n",
       "        text-align: right;\n",
       "    }\n",
       "</style>\n",
       "<table border=\"1\" class=\"dataframe\">\n",
       "  <thead>\n",
       "    <tr style=\"text-align: right;\">\n",
       "      <th></th>\n",
       "      <th>0</th>\n",
       "    </tr>\n",
       "  </thead>\n",
       "  <tbody>\n",
       "    <tr>\n",
       "      <th>cus_label</th>\n",
       "      <td>0.004261</td>\n",
       "    </tr>\n",
       "    <tr>\n",
       "      <th>historyvisit_7ordernum_null</th>\n",
       "      <td>0.005002</td>\n",
       "    </tr>\n",
       "    <tr>\n",
       "      <th>d_week</th>\n",
       "      <td>0.005383</td>\n",
       "    </tr>\n",
       "    <tr>\n",
       "      <th>arrival_week</th>\n",
       "      <td>0.005386</td>\n",
       "    </tr>\n",
       "    <tr>\n",
       "      <th>historyvisit_7ordernum</th>\n",
       "      <td>0.011163</td>\n",
       "    </tr>\n",
       "    <tr>\n",
       "      <th>iforderpv_24h</th>\n",
       "      <td>0.011637</td>\n",
       "    </tr>\n",
       "    <tr>\n",
       "      <th>firstorder_bu</th>\n",
       "      <td>0.012805</td>\n",
       "    </tr>\n",
       "    <tr>\n",
       "      <th>ordercanceledprecent</th>\n",
       "      <td>0.018053</td>\n",
       "    </tr>\n",
       "    <tr>\n",
       "      <th>landhalfhours</th>\n",
       "      <td>0.018665</td>\n",
       "    </tr>\n",
       "    <tr>\n",
       "      <th>delta_price1</th>\n",
       "      <td>0.018708</td>\n",
       "    </tr>\n",
       "    <tr>\n",
       "      <th>delta_price2</th>\n",
       "      <td>0.018914</td>\n",
       "    </tr>\n",
       "    <tr>\n",
       "      <th>hotelcr</th>\n",
       "      <td>0.018997</td>\n",
       "    </tr>\n",
       "    <tr>\n",
       "      <th>ordercanncelednum</th>\n",
       "      <td>0.020127</td>\n",
       "    </tr>\n",
       "    <tr>\n",
       "      <th>historyvisit_totalordernum</th>\n",
       "      <td>0.022185</td>\n",
       "    </tr>\n",
       "    <tr>\n",
       "      <th>consuming_capacity</th>\n",
       "      <td>0.022667</td>\n",
       "    </tr>\n",
       "    <tr>\n",
       "      <th>starprefer</th>\n",
       "      <td>0.022756</td>\n",
       "    </tr>\n",
       "    <tr>\n",
       "      <th>price_sensitive</th>\n",
       "      <td>0.023027</td>\n",
       "    </tr>\n",
       "    <tr>\n",
       "      <th>historyvisit_visit_detailpagenum</th>\n",
       "      <td>0.023729</td>\n",
       "    </tr>\n",
       "    <tr>\n",
       "      <th>lowestprice</th>\n",
       "      <td>0.024537</td>\n",
       "    </tr>\n",
       "    <tr>\n",
       "      <th>avgprice</th>\n",
       "      <td>0.025959</td>\n",
       "    </tr>\n",
       "    <tr>\n",
       "      <th>hoteluv</th>\n",
       "      <td>0.026177</td>\n",
       "    </tr>\n",
       "    <tr>\n",
       "      <th>cr_pre</th>\n",
       "      <td>0.026300</td>\n",
       "    </tr>\n",
       "    <tr>\n",
       "      <th>businessrate_pre</th>\n",
       "      <td>0.027216</td>\n",
       "    </tr>\n",
       "    <tr>\n",
       "      <th>customer_value_profit</th>\n",
       "      <td>0.028946</td>\n",
       "    </tr>\n",
       "    <tr>\n",
       "      <th>ctrip_profits</th>\n",
       "      <td>0.029544</td>\n",
       "    </tr>\n",
       "    <tr>\n",
       "      <th>cancelrate_pre</th>\n",
       "      <td>0.030225</td>\n",
       "    </tr>\n",
       "    <tr>\n",
       "      <th>lasthtlordergap</th>\n",
       "      <td>0.031845</td>\n",
       "    </tr>\n",
       "    <tr>\n",
       "      <th>lowestprice_pre2</th>\n",
       "      <td>0.032836</td>\n",
       "    </tr>\n",
       "    <tr>\n",
       "      <th>businessrate_pre2</th>\n",
       "      <td>0.033544</td>\n",
       "    </tr>\n",
       "    <tr>\n",
       "      <th>lowestprice_pre</th>\n",
       "      <td>0.034028</td>\n",
       "    </tr>\n",
       "    <tr>\n",
       "      <th>uv_pre2</th>\n",
       "      <td>0.034416</td>\n",
       "    </tr>\n",
       "    <tr>\n",
       "      <th>Reservation</th>\n",
       "      <td>0.035730</td>\n",
       "    </tr>\n",
       "    <tr>\n",
       "      <th>uv_pre</th>\n",
       "      <td>0.036055</td>\n",
       "    </tr>\n",
       "    <tr>\n",
       "      <th>cr</th>\n",
       "      <td>0.038784</td>\n",
       "    </tr>\n",
       "    <tr>\n",
       "      <th>h</th>\n",
       "      <td>0.041737</td>\n",
       "    </tr>\n",
       "    <tr>\n",
       "      <th>cityuvs</th>\n",
       "      <td>0.043213</td>\n",
       "    </tr>\n",
       "    <tr>\n",
       "      <th>cityorders</th>\n",
       "      <td>0.043807</td>\n",
       "    </tr>\n",
       "    <tr>\n",
       "      <th>lastpvgap</th>\n",
       "      <td>0.044048</td>\n",
       "    </tr>\n",
       "    <tr>\n",
       "      <th>visitnum_oneyear</th>\n",
       "      <td>0.047588</td>\n",
       "    </tr>\n",
       "  </tbody>\n",
       "</table>\n",
       "</div>"
      ],
      "text/plain": [
       "                                         0\n",
       "cus_label                         0.004261\n",
       "historyvisit_7ordernum_null       0.005002\n",
       "d_week                            0.005383\n",
       "arrival_week                      0.005386\n",
       "historyvisit_7ordernum            0.011163\n",
       "iforderpv_24h                     0.011637\n",
       "firstorder_bu                     0.012805\n",
       "ordercanceledprecent              0.018053\n",
       "landhalfhours                     0.018665\n",
       "delta_price1                      0.018708\n",
       "delta_price2                      0.018914\n",
       "hotelcr                           0.018997\n",
       "ordercanncelednum                 0.020127\n",
       "historyvisit_totalordernum        0.022185\n",
       "consuming_capacity                0.022667\n",
       "starprefer                        0.022756\n",
       "price_sensitive                   0.023027\n",
       "historyvisit_visit_detailpagenum  0.023729\n",
       "lowestprice                       0.024537\n",
       "avgprice                          0.025959\n",
       "hoteluv                           0.026177\n",
       "cr_pre                            0.026300\n",
       "businessrate_pre                  0.027216\n",
       "customer_value_profit             0.028946\n",
       "ctrip_profits                     0.029544\n",
       "cancelrate_pre                    0.030225\n",
       "lasthtlordergap                   0.031845\n",
       "lowestprice_pre2                  0.032836\n",
       "businessrate_pre2                 0.033544\n",
       "lowestprice_pre                   0.034028\n",
       "uv_pre2                           0.034416\n",
       "Reservation                       0.035730\n",
       "uv_pre                            0.036055\n",
       "cr                                0.038784\n",
       "h                                 0.041737\n",
       "cityuvs                           0.043213\n",
       "cityorders                        0.043807\n",
       "lastpvgap                         0.044048\n",
       "visitnum_oneyear                  0.047588"
      ]
     },
     "execution_count": 31,
     "metadata": {},
     "output_type": "execute_result"
    }
   ],
   "source": [
    "importance.sort_values(by=0)"
   ]
  },
  {
   "cell_type": "code",
   "execution_count": 32,
   "metadata": {},
   "outputs": [
    {
     "name": "stdout",
     "output_type": "stream",
     "text": [
      "[0.5483425780938984, 0.6617701410982035, 0.6736461752134826]\n"
     ]
    }
   ],
   "source": [
    "#朴素贝叶斯模型\n",
    "from sklearn.naive_bayes import GaussianNB\n",
    "gnb = GaussianNB()\n",
    "gnb.fit(x_train,y_train)\n",
    "y_gnb = gnb.predict_proba(x_test)[:,1]\n",
    "fpr_gnb,tpr_gnb,threshold_gnb = metrics.roc_curve(y_test,y_gnb)\n",
    "auc_gnb = metrics.auc(fpr_gnb,tpr_gnb)\n",
    "score_gnb = metrics.accuracy_score(y_test,gnb.predict(x_test))\n",
    "recall_gnb=metrics.recall_score(y_test,gnb.predict(x_test))\n",
    "print([recall_gnb,score_gnb,auc_gnb])"
   ]
  },
  {
   "cell_type": "code",
   "execution_count": 33,
   "metadata": {},
   "outputs": [
    {
     "name": "stdout",
     "output_type": "stream",
     "text": [
      "[0.2380636428779957, 0.7455594286501098, 0.7291788865964858]\n"
     ]
    }
   ],
   "source": [
    "#adaboost模型\n",
    "from sklearn.ensemble import AdaBoostClassifier\n",
    "from sklearn.tree import DecisionTreeClassifier\n",
    "bdt=AdaBoostClassifier()\n",
    "bdt.fit(x_train, y_train)\n",
    "y_bdt=bdt.predict_proba(x_test)[:,1]\n",
    "fpr_bdt,tpr_bdt,threshold_bdt=metrics.roc_curve(y_test,y_bdt)\n",
    "auc_bdt=metrics.auc(fpr_bdt,tpr_bdt)\n",
    "score_bdt=metrics.accuracy_score(y_test,bdt.predict(x_test))\n",
    "recall_bdt=metrics.recall_score(y_test,bdt.predict(x_test))\n",
    "print([recall_bdt,score_bdt,auc_bdt])"
   ]
  },
  {
   "cell_type": "code",
   "execution_count": 34,
   "metadata": {},
   "outputs": [
    {
     "name": "stdout",
     "output_type": "stream",
     "text": [
      "[0.21908755540221345, 0.7514656965410287, 0.7442558433250882]\n"
     ]
    }
   ],
   "source": [
    "#gbdt模型\n",
    "from sklearn.ensemble import GradientBoostingClassifier\n",
    "gbdt = GradientBoostingClassifier(random_state=10)\n",
    "gbdt.fit(x_train, y_train)\n",
    "y_gbdt=gbdt.predict_proba(x_test)[:,1]\n",
    "fpr_gbdt,tpr_gbdt,threshold_gbdt=metrics.roc_curve(y_test,y_gbdt)\n",
    "auc_gbdt=metrics.auc(fpr_gbdt,tpr_gbdt)\n",
    "score_gbdt=metrics.accuracy_score(y_test,gbdt.predict(x_test))\n",
    "recall_gbdt=metrics.recall_score(y_test,gbdt.predict(x_test))\n",
    "print([recall_gbdt,score_gbdt,auc_gbdt])\n"
   ]
  },
  {
   "cell_type": "code",
   "execution_count": 39,
   "metadata": {},
   "outputs": [
    {
     "name": "stdout",
     "output_type": "stream",
     "text": [
      "[0.8142201226147191, 0.9410242845444202, 0.9783841764407033]\n"
     ]
    }
   ],
   "source": [
    "#xgboost模型\n",
    "from xgboost import XGBClassifier\n",
    "\n",
    "xgb=XGBClassifier(max_depth=20,min_child_weight=0.1)\n",
    "xgb.fit(x_train, y_train)\n",
    "y_xgb=xgb.predict_proba(x_test)[:,1]\n",
    "fpr_xgb,tpr_xgb,threshold_xgb=metrics.roc_curve(y_test,y_xgb)\n",
    "auc_xgb=metrics.auc(fpr_xgb,tpr_xgb)\n",
    "score_xgb=metrics.accuracy_score(y_test,xgb.predict(x_test))\n",
    "recall_xgb=metrics.recall_score(y_test,xgb.predict(x_test))\n",
    "print([recall_xgb,score_xgb,auc_xgb])"
   ]
  },
  {
   "cell_type": "code",
   "execution_count": 41,
   "metadata": {},
   "outputs": [
    {
     "data": {
      "text/html": [
       "<div>\n",
       "<style scoped>\n",
       "    .dataframe tbody tr th:only-of-type {\n",
       "        vertical-align: middle;\n",
       "    }\n",
       "\n",
       "    .dataframe tbody tr th {\n",
       "        vertical-align: top;\n",
       "    }\n",
       "\n",
       "    .dataframe thead th {\n",
       "        text-align: right;\n",
       "    }\n",
       "</style>\n",
       "<table border=\"1\" class=\"dataframe\">\n",
       "  <thead>\n",
       "    <tr style=\"text-align: right;\">\n",
       "      <th></th>\n",
       "      <th>0</th>\n",
       "    </tr>\n",
       "  </thead>\n",
       "  <tbody>\n",
       "    <tr>\n",
       "      <th>d_week</th>\n",
       "      <td>0.000000</td>\n",
       "    </tr>\n",
       "    <tr>\n",
       "      <th>historyvisit_7ordernum_null</th>\n",
       "      <td>0.000000</td>\n",
       "    </tr>\n",
       "    <tr>\n",
       "      <th>hotelcr</th>\n",
       "      <td>0.011288</td>\n",
       "    </tr>\n",
       "    <tr>\n",
       "      <th>hoteluv</th>\n",
       "      <td>0.011910</td>\n",
       "    </tr>\n",
       "    <tr>\n",
       "      <th>lowestprice</th>\n",
       "      <td>0.012198</td>\n",
       "    </tr>\n",
       "    <tr>\n",
       "      <th>historyvisit_totalordernum</th>\n",
       "      <td>0.016111</td>\n",
       "    </tr>\n",
       "    <tr>\n",
       "      <th>historyvisit_7ordernum</th>\n",
       "      <td>0.017220</td>\n",
       "    </tr>\n",
       "    <tr>\n",
       "      <th>delta_price1</th>\n",
       "      <td>0.019307</td>\n",
       "    </tr>\n",
       "    <tr>\n",
       "      <th>businessrate_pre</th>\n",
       "      <td>0.019499</td>\n",
       "    </tr>\n",
       "    <tr>\n",
       "      <th>landhalfhours</th>\n",
       "      <td>0.019681</td>\n",
       "    </tr>\n",
       "    <tr>\n",
       "      <th>cancelrate_pre</th>\n",
       "      <td>0.020501</td>\n",
       "    </tr>\n",
       "    <tr>\n",
       "      <th>delta_price2</th>\n",
       "      <td>0.020730</td>\n",
       "    </tr>\n",
       "    <tr>\n",
       "      <th>ordercanceledprecent</th>\n",
       "      <td>0.020783</td>\n",
       "    </tr>\n",
       "    <tr>\n",
       "      <th>lowestprice_pre2</th>\n",
       "      <td>0.021286</td>\n",
       "    </tr>\n",
       "    <tr>\n",
       "      <th>uv_pre2</th>\n",
       "      <td>0.021845</td>\n",
       "    </tr>\n",
       "    <tr>\n",
       "      <th>lowestprice_pre</th>\n",
       "      <td>0.022404</td>\n",
       "    </tr>\n",
       "    <tr>\n",
       "      <th>starprefer</th>\n",
       "      <td>0.023148</td>\n",
       "    </tr>\n",
       "    <tr>\n",
       "      <th>historyvisit_visit_detailpagenum</th>\n",
       "      <td>0.023313</td>\n",
       "    </tr>\n",
       "    <tr>\n",
       "      <th>consuming_capacity</th>\n",
       "      <td>0.024240</td>\n",
       "    </tr>\n",
       "    <tr>\n",
       "      <th>uv_pre</th>\n",
       "      <td>0.024315</td>\n",
       "    </tr>\n",
       "    <tr>\n",
       "      <th>businessrate_pre2</th>\n",
       "      <td>0.024627</td>\n",
       "    </tr>\n",
       "    <tr>\n",
       "      <th>cus_label</th>\n",
       "      <td>0.025190</td>\n",
       "    </tr>\n",
       "    <tr>\n",
       "      <th>ordercanncelednum</th>\n",
       "      <td>0.025896</td>\n",
       "    </tr>\n",
       "    <tr>\n",
       "      <th>firstorder_bu</th>\n",
       "      <td>0.025922</td>\n",
       "    </tr>\n",
       "    <tr>\n",
       "      <th>price_sensitive</th>\n",
       "      <td>0.026549</td>\n",
       "    </tr>\n",
       "    <tr>\n",
       "      <th>arrival_week</th>\n",
       "      <td>0.027672</td>\n",
       "    </tr>\n",
       "    <tr>\n",
       "      <th>cityuvs</th>\n",
       "      <td>0.028691</td>\n",
       "    </tr>\n",
       "    <tr>\n",
       "      <th>cr_pre</th>\n",
       "      <td>0.028825</td>\n",
       "    </tr>\n",
       "    <tr>\n",
       "      <th>lastpvgap</th>\n",
       "      <td>0.030275</td>\n",
       "    </tr>\n",
       "    <tr>\n",
       "      <th>ctrip_profits</th>\n",
       "      <td>0.030765</td>\n",
       "    </tr>\n",
       "    <tr>\n",
       "      <th>lasthtlordergap</th>\n",
       "      <td>0.031440</td>\n",
       "    </tr>\n",
       "    <tr>\n",
       "      <th>customer_value_profit</th>\n",
       "      <td>0.031551</td>\n",
       "    </tr>\n",
       "    <tr>\n",
       "      <th>avgprice</th>\n",
       "      <td>0.031935</td>\n",
       "    </tr>\n",
       "    <tr>\n",
       "      <th>cityorders</th>\n",
       "      <td>0.033720</td>\n",
       "    </tr>\n",
       "    <tr>\n",
       "      <th>visitnum_oneyear</th>\n",
       "      <td>0.036117</td>\n",
       "    </tr>\n",
       "    <tr>\n",
       "      <th>h</th>\n",
       "      <td>0.038929</td>\n",
       "    </tr>\n",
       "    <tr>\n",
       "      <th>iforderpv_24h</th>\n",
       "      <td>0.040585</td>\n",
       "    </tr>\n",
       "    <tr>\n",
       "      <th>cr</th>\n",
       "      <td>0.062130</td>\n",
       "    </tr>\n",
       "    <tr>\n",
       "      <th>Reservation</th>\n",
       "      <td>0.069399</td>\n",
       "    </tr>\n",
       "  </tbody>\n",
       "</table>\n",
       "</div>"
      ],
      "text/plain": [
       "                                         0\n",
       "d_week                            0.000000\n",
       "historyvisit_7ordernum_null       0.000000\n",
       "hotelcr                           0.011288\n",
       "hoteluv                           0.011910\n",
       "lowestprice                       0.012198\n",
       "historyvisit_totalordernum        0.016111\n",
       "historyvisit_7ordernum            0.017220\n",
       "delta_price1                      0.019307\n",
       "businessrate_pre                  0.019499\n",
       "landhalfhours                     0.019681\n",
       "cancelrate_pre                    0.020501\n",
       "delta_price2                      0.020730\n",
       "ordercanceledprecent              0.020783\n",
       "lowestprice_pre2                  0.021286\n",
       "uv_pre2                           0.021845\n",
       "lowestprice_pre                   0.022404\n",
       "starprefer                        0.023148\n",
       "historyvisit_visit_detailpagenum  0.023313\n",
       "consuming_capacity                0.024240\n",
       "uv_pre                            0.024315\n",
       "businessrate_pre2                 0.024627\n",
       "cus_label                         0.025190\n",
       "ordercanncelednum                 0.025896\n",
       "firstorder_bu                     0.025922\n",
       "price_sensitive                   0.026549\n",
       "arrival_week                      0.027672\n",
       "cityuvs                           0.028691\n",
       "cr_pre                            0.028825\n",
       "lastpvgap                         0.030275\n",
       "ctrip_profits                     0.030765\n",
       "lasthtlordergap                   0.031440\n",
       "customer_value_profit             0.031551\n",
       "avgprice                          0.031935\n",
       "cityorders                        0.033720\n",
       "visitnum_oneyear                  0.036117\n",
       "h                                 0.038929\n",
       "iforderpv_24h                     0.040585\n",
       "cr                                0.062130\n",
       "Reservation                       0.069399"
      ]
     },
     "execution_count": 41,
     "metadata": {},
     "output_type": "execute_result"
    }
   ],
   "source": [
    "importance = xgb.feature_importances_\n",
    "features = data_x.columns\n",
    "importance=pd.DataFrame(importance)\n",
    "importance.index=features\n",
    "importance.sort_values(by=0)"
   ]
  },
  {
   "cell_type": "code",
   "execution_count": 40,
   "metadata": {},
   "outputs": [
    {
     "data": {
      "image/png": "[encoded data removed]",
      "text/plain": [
       "<Figure size 432x288 with 1 Axes>"
      ]
     },
     "metadata": {
      "needs_background": "light"
     },
     "output_type": "display_data"
    }
   ],
   "source": [
    "#ROC曲线对比\n",
    "plt.rcParams['font.sans-serif']=['SimHei']\n",
    "fig = plt.plot()\n",
    "plt.plot(fpr_rfc,tpr_rfc,label='rfc')\n",
    "#随机森林\n",
    "plt.plot(fpr_dtc,tpr_dtc,label='dtc')\n",
    "#决策树\n",
    "plt.plot(fpr_lr,tpr_lr,label='lr')\n",
    "#逻辑回归\n",
    "plt.plot(fpr_gnb,tpr_gnb,label='gnp')\n",
    "#朴素贝叶斯模型\n",
    "plt.plot(fpr_bdt,tpr_bdt,label='bdt')\n",
    "#adaboost\n",
    "plt.plot(fpr_xgb,tpr_xgb,label='xgb')\n",
    "#xgboost\n",
    "plt.plot(fpr_gbdt,tpr_gbdt,label='gbdt')\n",
    "#gbdt\n",
    "plt.legend(loc=0)\n",
    "#在合适的位置放置图例\n",
    "\n",
    "plt.xlabel('False Positive Rate')\n",
    "plt.ylabel('True Positive Rate')\n",
    "plt.title('ROC carve')\n",
    "plt.show()\n",
    "\n"
   ]
  },
  {
   "cell_type": "markdown",
   "metadata": {},
   "source": [
    "# 模型调参"
   ]
  },
  {
   "cell_type": "code",
   "execution_count": 65,
   "metadata": {
    "scrolled": true
   },
   "outputs": [
    {
     "name": "stderr",
     "output_type": "stream",
     "text": [
      "E:\\python\\lib\\site-packages\\ipykernel_launcher.py:4: DataConversionWarning: Data with input dtype int32, int64, float64 were all converted to float64 by StandardScaler.\n",
      "  after removing the cwd from sys.path.\n"
     ]
    }
   ],
   "source": [
    "#切割样本集\n",
    "data_sample=data_raw.sample(frac=0.01,replace=False,random_state=111)\n",
    "x=scaler.transform(data_sample.iloc[:,:39])\n",
    "y=data_sample['label'].values"
   ]
  },
  {
   "cell_type": "code",
   "execution_count": 71,
   "metadata": {},
   "outputs": [
    {
     "data": {
      "text/plain": [
       "(make_scorer(roc_auc_score, needs_threshold=True),\n",
       " {'n_estimators': 130},\n",
       " 0.7219923366892612)"
      ]
     },
     "execution_count": 71,
     "metadata": {},
     "output_type": "execute_result"
    }
   ],
   "source": [
    "#n_estimators进行网格搜索\n",
    "param_test1 = {'n_estimators':range(80,140,5)}\n",
    "gsearch1 = GridSearchCV(estimator = RandomForestClassifier(),param_grid = param_test1, scoring='roc_auc',cv=5)\n",
    "gsearch1.fit(x,y)\n",
    "gsearch1.scorer_ , gsearch1.best_params_, gsearch1.best_score_"
   ]
  },
  {
   "cell_type": "code",
   "execution_count": 74,
   "metadata": {},
   "outputs": [
    {
     "data": {
      "text/plain": [
       "(make_scorer(roc_auc_score, needs_threshold=True),\n",
       " {'max_depth': 11, 'min_samples_split': 90},\n",
       " 0.713394180430343)"
      ]
     },
     "execution_count": 74,
     "metadata": {},
     "output_type": "execute_result"
    }
   ],
   "source": [
    "#max_depth和min_samples_split\n",
    "\n",
    "\n",
    "param_test2 = {'max_depth':range(3,14,4), 'min_samples_split':range(50,201,40)}\n",
    "gsearch2 = GridSearchCV(estimator = RandomForestClassifier(n_estimators= 130, \n",
    "                                  min_samples_leaf=20,max_features='sqrt' ,oob_score=True, random_state=10),\n",
    "   param_grid = param_test2, scoring='roc_auc',iid=False, cv=5)\n",
    "gsearch2.fit(x,y)\n",
    "gsearch2.scorer_, gsearch2.best_params_, gsearch2.best_score_"
   ]
  },
  {
   "cell_type": "code",
   "execution_count": 75,
   "metadata": {},
   "outputs": [
    {
     "data": {
      "text/plain": [
       "(make_scorer(roc_auc_score, needs_threshold=True),\n",
       " {'min_samples_leaf': 10, 'min_samples_split': 80},\n",
       " 0.7140899585527308)"
      ]
     },
     "execution_count": 75,
     "metadata": {},
     "output_type": "execute_result"
    }
   ],
   "source": [
    "param_test3 = {'min_samples_split':range(80,150,20), 'min_samples_leaf':range(10,60,10)}\n",
    "gsearch3 = GridSearchCV(estimator = RandomForestClassifier(n_estimators= 130, max_depth=11,\n",
    "                                  max_features='sqrt' ,oob_score=True, random_state=10),\n",
    "   param_grid = param_test3, scoring='roc_auc',iid=False, cv=5)\n",
    "gsearch3.fit(x,y)\n",
    "gsearch3.scorer_, gsearch3.best_params_, gsearch3.best_score_"
   ]
  },
  {
   "cell_type": "code",
   "execution_count": 76,
   "metadata": {},
   "outputs": [
    {
     "data": {
      "text/plain": [
       "(make_scorer(roc_auc_score, needs_threshold=True),\n",
       " {'max_features': 7},\n",
       " 0.71289292684553)"
      ]
     },
     "execution_count": 76,
     "metadata": {},
     "output_type": "execute_result"
    }
   ],
   "source": [
    "param_test4 = {'max_features':range(3,11,4)}\n",
    "gsearch4 = GridSearchCV(estimator = RandomForestClassifier(n_estimators= 130, max_depth=11, min_samples_split=80,\n",
    "                                  min_samples_leaf=10 ,oob_score=True, random_state=10),\n",
    "   param_grid = param_test4, scoring='roc_auc',iid=False, cv=5)\n",
    "gsearch4.fit(x,y)\n",
    "gsearch4.scorer_, gsearch4.best_params_, gsearch4.best_score_"
   ]
  }
 ],
 "metadata": {
  "kernelspec": {
   "display_name": "Python 3",
   "language": "python",
   "name": "python3"
  },
  "language_info": {
   "codemirror_mode": {
    "name": "ipython",
    "version": 3
   },
   "file_extension": ".py",
   "mimetype": "text/x-python",
   "name": "python",
   "nbconvert_exporter": "python",
   "pygments_lexer": "ipython3",
   "version": "3.7.2"
  },
  "toc": {
   "base_numbering": 1,
   "nav_menu": {},
   "number_sections": true,
   "sideBar": true,
   "skip_h1_title": false,
   "title_cell": "Table of Contents",
   "title_sidebar": "Contents",
   "toc_cell": false,
   "toc_position": {},
   "toc_section_display": true,
   "toc_window_display": false
  }
 },
 "nbformat": 4,
 "nbformat_minor": 2
}
